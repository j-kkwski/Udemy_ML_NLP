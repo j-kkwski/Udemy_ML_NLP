{
  "nbformat": 4,
  "nbformat_minor": 0,
  "metadata": {
    "colab": {
      "provenance": [],
      "authorship_tag": "ABX9TyMA5DJHd6JyVmVdG82vVY8O",
      "include_colab_link": true
    },
    "kernelspec": {
      "name": "python3",
      "display_name": "Python 3"
    },
    "language_info": {
      "name": "python"
    }
  },
  "cells": [
    {
      "cell_type": "markdown",
      "metadata": {
        "id": "view-in-github",
        "colab_type": "text"
      },
      "source": [
        "<a href=\"https://colab.research.google.com/github/j-kkwski/Udemy_ML_NLP/blob/main/udemy_machine_learning_natural_language_processing_in_python_v2.ipynb\" target=\"_parent\"><img src=\"https://colab.research.google.com/assets/colab-badge.svg\" alt=\"Open In Colab\"/></a>"
      ]
    },
    {
      "cell_type": "markdown",
      "source": [
        "## BASIC DEFINITIONS OF NLP\n",
        "\n",
        "\n",
        "* **Tokens**: can be words, punctuation, sub-units of words. (often when you say toeksn you mean word)\n",
        "* **Vocabulary**:population of words used for model\n",
        "* **Corpus:** large colection of writings of a specific kind or on a specific subject. Basically a dataset used to train the mogel\n",
        "* **N-Gram:** Refers to N consecutive items (tokens, words, characters). Unigram = single item, Bigram = two items in a row, Trigram = three items in a row. word2vec NN for bigrams, Markov models base on bigram probabilities.\n",
        "\n",
        "\n",
        "#### VECTORS\n",
        "\n",
        "Definition: quantity that has both magnitude and direction\n",
        "\n",
        "Theory Playsit: https://www.youtube.com/playlist?list=PLZHQObOWTQDPD3MizzM2xVFitgF8hE_ab\n",
        "\n",
        "\n",
        "\n",
        "\n",
        "\n"
      ],
      "metadata": {
        "id": "TkRbwpBV9Gyb"
      }
    },
    {
      "cell_type": "code",
      "execution_count": null,
      "metadata": {
        "id": "UZX81s1W8976"
      },
      "outputs": [],
      "source": []
    }
  ]
}